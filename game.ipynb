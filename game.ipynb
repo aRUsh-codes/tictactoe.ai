{
 "cells": [
  {
   "cell_type": "code",
   "execution_count": 1,
   "metadata": {},
   "outputs": [
    {
     "data": {
      "text/plain": [
       "{'112012100': {'p_win': 0.01},\n",
       " '102112100': {'p_win': 0.02},\n",
       " '102012110': {'p_win': 0.03},\n",
       " '102012101': {'p_win': 0.04}}"
      ]
     },
     "execution_count": 1,
     "metadata": {},
     "output_type": "execute_result"
    }
   ],
   "source": [
    "game_states = {\n",
    "    \"102012100\": {\n",
    "        \"possible_moves\": {\n",
    "            \"112012100\": {\"p_win\": 0.01},\n",
    "            \"102112100\": {\"p_win\": 0.02},\n",
    "            \"102012110\": {\"p_win\": 0.03},\n",
    "            \"102012101\": {\"p_win\": 0.04},\n",
    "        }\n",
    "    }\n",
    "}\n",
    "\n",
    "next_move_options = game_states[\"102012100\"][\"possible_moves\"]\n",
    "next_move_options"
   ]
  },
  {
   "cell_type": "code",
   "execution_count": 2,
   "metadata": {},
   "outputs": [
    {
     "name": "stdout",
     "output_type": "stream",
     "text": [
      "111212122: win for Player One --> True\n",
      "120120100: win for Player One --> True\n",
      "120210001: win for Player One --> True\n",
      "201210100: win for Player One --> True\n",
      "112012100: win for Player One --> False\n",
      "222121211: win for Player Two --> True\n",
      "112102002: win for Player Two --> True\n"
     ]
    }
   ],
   "source": [
    "def winning_state(game_state: str, player: str = \"1\") -> bool:\n",
    "    \"\"\"Check the game state to see if it indicates a winning state.\"\"\"\n",
    "    # check rows\n",
    "    if game_state[0] == game_state[1] == game_state[2] == player:\n",
    "        return True\n",
    "    if game_state[3] == game_state[4] == game_state[5] == player:\n",
    "        return True\n",
    "    if game_state[6] == game_state[7] == game_state[8] == player:\n",
    "        return True\n",
    "\n",
    "    # check columns\n",
    "    if game_state[0] == game_state[3] == game_state[6] == player:\n",
    "        return True\n",
    "    if game_state[1] == game_state[4] == game_state[7] == player:\n",
    "        return True\n",
    "    if game_state[2] == game_state[5] == game_state[8] == player:\n",
    "        return True\n",
    "\n",
    "    # check diagonals\n",
    "    if game_state[0] == game_state[4] == game_state[8] == player:\n",
    "        return True\n",
    "    if game_state[2] == game_state[4] == game_state[6] == player:\n",
    "        return True\n",
    "\n",
    "    # otherwise...\n",
    "    return False\n",
    "\n",
    "\n",
    "print(f\"111212122: win for Player One --> {winning_state('111212122', player='1')}\")\n",
    "print(f\"120120100: win for Player One --> {winning_state('111212100', player='1')}\")\n",
    "print(f\"120210001: win for Player One --> {winning_state('120210001', player='1')}\")\n",
    "print(f\"201210100: win for Player One --> {winning_state('120210001', player='1')}\")\n",
    "print(f\"112012100: win for Player One --> {winning_state('112012100', player='1')}\")\n",
    "print(f\"222121211: win for Player Two --> {winning_state('222121211', player='2')}\")\n",
    "print(f\"112102002: win for Player Two --> {winning_state('112102002', player='2')}\")"
   ]
  },
  {
   "cell_type": "code",
   "execution_count": 3,
   "metadata": {},
   "outputs": [
    {
     "data": {
      "text/plain": [
       "['122120100', '120122100', '120120120', '120120102']"
      ]
     },
     "execution_count": 3,
     "metadata": {},
     "output_type": "execute_result"
    }
   ],
   "source": [
    "def current_player(game_state: str) -> str:\n",
    "    \"\"\"Get current player based on game state.\"\"\"\n",
    "    return \"1\" if game_state.count(\"1\") <= game_state.count(\"2\") else \"2\"\n",
    "\n",
    "\n",
    "def get_possible_moves(game_state: str) -> list[str]:\n",
    "    \"\"\"Compute all possible next moves.\"\"\"\n",
    "    possible_moves: list[str] = []\n",
    "    for i in range(9):\n",
    "        if game_state[i] == \"0\":\n",
    "            possible_moves.append(\n",
    "                game_state[:i] + current_player(game_state) + game_state[i+1:]\n",
    "            )\n",
    "    return possible_moves\n",
    "\n",
    "\n",
    "get_possible_moves(\"120120100\")"
   ]
  },
  {
   "cell_type": "code",
   "execution_count": 4,
   "metadata": {},
   "outputs": [
    {
     "name": "stdout",
     "output_type": "stream",
     "text": [
      "number of possible games = 255,168\n"
     ]
    }
   ],
   "source": [
    "possible_games: list[list[str]] = []\n",
    "possible_games.append([\"000000000\"])\n",
    "\n",
    "# phase 1 - generate all possible games\n",
    "for game_round in range(9):\n",
    "    new_possible_games: list[list[str]] = []\n",
    "    for game in possible_games:\n",
    "        previous_game_state = game[-1]\n",
    "        if (winning_state(previous_game_state, player=\"1\")\n",
    "            or winning_state(previous_game_state, player=\"2\")):\n",
    "            new_possible_games.append(game.copy())\n",
    "            continue\n",
    "        for move in get_possible_moves(previous_game_state):\n",
    "            new_game = game.copy()\n",
    "            new_game.append(move)\n",
    "            new_possible_games.append(new_game)\n",
    "        possible_games = new_possible_games\n",
    "\n",
    "print(f\"number of possible games = {len(possible_games):,}\")"
   ]
  },
  {
   "cell_type": "code",
   "execution_count": 5,
   "metadata": {},
   "outputs": [
    {
     "name": "stdout",
     "output_type": "stream",
     "text": [
      "result: draw\n",
      "game path: 000000000 --> 100000000 --> 120000000 --> 121000000 --> 121020000 --> 121021000 --> 121021002 --> 121121002 --> 121121202 --> 121121212\n",
      "final game state:\n",
      " 121\n",
      " 121\n",
      " 212\n"
     ]
    }
   ],
   "source": [
    "def print_final_game_state(game_path: list[str]) -> None:\n",
    "    \"\"\"Print the game state on a 3 x 3 board.\"\"\"\n",
    "    final_game_state = game_path[-1]\n",
    "    print(\n",
    "        \"final game state:\" + \"\\n \"\n",
    "        + final_game_state[0:3] + \"\\n \"\n",
    "        + final_game_state[3:6] + \"\\n \"\n",
    "        + final_game_state[6:9]\n",
    "    )\n",
    "\n",
    "\n",
    "def print_game_path(game_path: list[str]) -> None:\n",
    "    \"\"\"Print the path of a finished game.\"\"\"\n",
    "    all_states_in_path = [state for state in game_path]\n",
    "    print(\"game path: \" + \" --> \".join(all_states_in_path))\n",
    "\n",
    "\n",
    "def print_game_result(game_path: list[str]) -> None:\n",
    "    \"\"\"Print the game result.\"\"\"\n",
    "    final_fame_state = game_path[-1]\n",
    "    if winning_state(final_fame_state, \"1\"):\n",
    "        print(\"result: player 1 wins\")\n",
    "    elif winning_state(final_fame_state, \"2\"):\n",
    "        print(\"result: player 2 wins\")\n",
    "    else:\n",
    "        print(\"result: draw\")\n",
    "\n",
    "\n",
    "game_path = 130\n",
    "print_game_result(possible_games[game_path])\n",
    "print_game_path(possible_games[game_path])\n",
    "print_final_game_state(possible_games[game_path])"
   ]
  },
  {
   "cell_type": "code",
   "execution_count": 6,
   "metadata": {},
   "outputs": [
    {
     "name": "stdout",
     "output_type": "stream",
     "text": [
      "number of times player 1 wins = 131,184\n",
      "number of times player 2 wins = 77,904\n",
      "number of draws = 46,080\n"
     ]
    }
   ],
   "source": [
    "def game_outcome(game_path: list[str]) -> str:\n",
    "    \"\"\"Compute the game's outcome.\"\"\"\n",
    "    final_fame_state = game_path[-1]\n",
    "    if winning_state(final_fame_state, \"1\"):\n",
    "        return (\"player 1 wins\")\n",
    "    elif winning_state(final_fame_state, \"2\"):\n",
    "        return (\"player 2 wins\")\n",
    "    else:\n",
    "        return(\"draw\")\n",
    "\n",
    "\n",
    "num_player_1_wins = sum(\n",
    "    game_outcome(game) == \"player 1 wins\" for game in possible_games\n",
    ")\n",
    "num_player_2_wins = sum(\n",
    "    game_outcome(game) == \"player 2 wins\" for game in possible_games\n",
    ")\n",
    "num_draws = sum(\n",
    "    game_outcome(game) == \"draw\" for game in possible_games\n",
    ")\n",
    "\n",
    "print(f\"number of times player 1 wins = {num_player_1_wins:,}\")\n",
    "print(f\"number of times player 2 wins = {num_player_2_wins:,}\")\n",
    "print(f\"number of draws = {num_draws:,}\")"
   ]
  },
  {
   "cell_type": "code",
   "execution_count": 7,
   "metadata": {},
   "outputs": [],
   "source": [
    "from collections import Counter\n",
    "\n",
    "p1_win_counter: Counter[str] = Counter()\n",
    "p2_win_counter: Counter[str]= Counter()\n",
    "draw_counter: Counter[str] = Counter()\n",
    "interim_states: set[str] = set()\n",
    "\n",
    "outcome_probabilities: dict[str, dict[str, float]] = {}\n",
    "ai_player_database: dict[str, dict[str, dict[str, float]]] = {}\n",
    "\n",
    "# count wins and draws for every interim state in every game\n",
    "for game in possible_games:\n",
    "    final_game_state = game[-1]\n",
    "    for game_state in game:  ## game[:-2] or game[:-1] analysis?\n",
    "        interim_states.add(game_state)\n",
    "        if winning_state(final_game_state, player=\"1\"):\n",
    "            p1_win_counter.update([game_state])\n",
    "        elif winning_state(final_game_state, player=\"2\"):\n",
    "            p2_win_counter.update([game_state])\n",
    "        else:\n",
    "            draw_counter.update([game_state])\n",
    "\n",
    "# compute outcome probabilities from every possible interim state\n",
    "for game_state in interim_states:\n",
    "    num_p1_wins_from_state = p1_win_counter[game_state]\n",
    "    num_p2_wins_from_state = p2_win_counter[game_state]\n",
    "    num_draws_from_state = draw_counter[game_state]\n",
    "\n",
    "    num_final_outcomes = (\n",
    "        num_p1_wins_from_state + num_p2_wins_from_state + num_draws_from_state\n",
    "    )\n",
    "\n",
    "    outcome_probabilities[game_state] = {\n",
    "        \"p1_wins\": round(num_p1_wins_from_state / num_final_outcomes, 5),\n",
    "        \"p2_wins\": round(num_p2_wins_from_state / num_final_outcomes, 5),\n",
    "        \"draw\": round(num_draws_from_state / num_final_outcomes, 5)\n",
    "    }\n",
    "\n",
    "# compute data in a form that can be used for an AI player\n",
    "for game_state in interim_states:\n",
    "    if winning_state(game_state, player=\"1\") or winning_state(game_state, player=\"2\"):\n",
    "        continue\n",
    "    possible_moves_data: dict[str, dict[str, float]] = {}\n",
    "    for possible_move in get_possible_moves(game_state):\n",
    "        possible_moves_data[possible_move] = outcome_probabilities[possible_move]\n",
    "    ai_player_database[game_state] = possible_moves_data"
   ]
  },
  {
   "cell_type": "code",
   "execution_count": 8,
   "metadata": {},
   "outputs": [
    {
     "name": "stdout",
     "output_type": "stream",
     "text": [
      "000000000 --> 100000000: {\"p1_wins\": 0.52834, \"p2_wins\": 0.28473, \"draw\": 0.18693}\n",
      "000000000 --> 010000000: {\"p1_wins\": 0.48094, \"p2_wins\": 0.34388, \"draw\": 0.17518}\n",
      "000000000 --> 001000000: {\"p1_wins\": 0.52834, \"p2_wins\": 0.28473, \"draw\": 0.18693}\n",
      "000000000 --> 000100000: {\"p1_wins\": 0.48094, \"p2_wins\": 0.34388, \"draw\": 0.17518}\n",
      "000000000 --> 000010000: {\"p1_wins\": 0.60482, \"p2_wins\": 0.21707, \"draw\": 0.17811}\n",
      "000000000 --> 000001000: {\"p1_wins\": 0.48094, \"p2_wins\": 0.34388, \"draw\": 0.17518}\n",
      "000000000 --> 000000100: {\"p1_wins\": 0.52834, \"p2_wins\": 0.28473, \"draw\": 0.18693}\n",
      "000000000 --> 000000010: {\"p1_wins\": 0.48094, \"p2_wins\": 0.34388, \"draw\": 0.17518}\n",
      "000000000 --> 000000001: {\"p1_wins\": 0.52834, \"p2_wins\": 0.28473, \"draw\": 0.18693}\n"
     ]
    }
   ],
   "source": [
    "from json import dumps\n",
    "\n",
    "current_state = \"000000000\"\n",
    "for possible_move, data in ai_player_database[current_state].items():\n",
    "    print(f\"{current_state} --> {possible_move}: {dumps(data)}\")"
   ]
  },
  {
   "cell_type": "code",
   "execution_count": 9,
   "metadata": {},
   "outputs": [
    {
     "name": "stdout",
     "output_type": "stream",
     "text": [
      "000000000 --> 000010000\n"
     ]
    },
    {
     "data": {
      "text/plain": [
       "'000010000'"
      ]
     },
     "execution_count": 9,
     "metadata": {},
     "output_type": "execute_result"
    }
   ],
   "source": [
    "def next_best_move(game_state: str, strategy: str = \"win\") -> str:\n",
    "    \"\"\"Suggest the best next move.\"\"\"\n",
    "    player = current_player(game_state)\n",
    "    possible_move_data = ai_player_database[game_state]\n",
    "\n",
    "    if strategy == \"win\":\n",
    "        data_key = f\"p{player}_wins\"\n",
    "        moves_and_probs: list[tuple[str, float]] = []\n",
    "        for move, move_data in possible_move_data.items():\n",
    "            moves_and_probs.append((move, move_data[data_key]))\n",
    "        moves_sorted = sorted(moves_and_probs, key=lambda e: e[1])\n",
    "        best_move = moves_sorted[-1]\n",
    "\n",
    "    print(f\"{game_state} --> {best_move[0]}\")\n",
    "    return best_move[0]\n",
    "\n",
    "next_best_move(\"000000000\")"
   ]
  },
  {
   "cell_type": "code",
   "execution_count": 10,
   "metadata": {},
   "outputs": [
    {
     "name": "stdout",
     "output_type": "stream",
     "text": [
      "000000000 --> 000010000\n",
      "000010000 --> 000010002\n",
      "000010002 --> 000010102\n",
      "000010102 --> 000012102\n",
      "000012102 --> 001012102\n",
      "player 1 wins!\n"
     ]
    }
   ],
   "source": [
    "current_state = \"000000000\"\n",
    "for round in range(9):\n",
    "    player = current_player(current_state)\n",
    "    current_state = next_best_move(current_state)\n",
    "    if winning_state(current_state, player):\n",
    "        print(f\"player {player} wins!\")\n",
    "        break\n",
    "    if round == 9:\n",
    "        print(\"draw!\")"
   ]
  },
  {
   "cell_type": "code",
   "execution_count": 11,
   "metadata": {},
   "outputs": [],
   "source": [
    "import json\n",
    "\n",
    "with open(\"ai_db.json\", \"w\") as f:\n",
    "    json.dump(ai_player_database, f)\n"
   ]
  }
 ],
 "metadata": {
  "kernelspec": {
   "display_name": "venv",
   "language": "python",
   "name": "python3"
  },
  "language_info": {
   "codemirror_mode": {
    "name": "ipython",
    "version": 3
   },
   "file_extension": ".py",
   "mimetype": "text/x-python",
   "name": "python",
   "nbconvert_exporter": "python",
   "pygments_lexer": "ipython3",
   "version": "3.12.6"
  }
 },
 "nbformat": 4,
 "nbformat_minor": 2
}
